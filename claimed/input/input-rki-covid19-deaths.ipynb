{
 "cells": [
  {
   "cell_type": "code",
   "execution_count": null,
   "id": "60b7f9ad-5260-46e7-915b-11c47814c6e2",
   "metadata": {
    "papermill": {
     "duration": 7.478533,
     "end_time": "2022-01-10T17:23:46.955316",
     "exception": false,
     "start_time": "2022-01-10T17:23:39.476783",
     "status": "completed"
    },
    "tags": []
   },
   "outputs": [],
   "source": [
    "!pip install pandas==1.3.5 openpyxl==3.0.9"
   ]
  },
  {
   "cell_type": "code",
   "execution_count": null,
   "id": "c2498ac1-01dc-475a-b1d3-bad3743747db",
   "metadata": {
    "papermill": {
     "duration": 0.470443,
     "end_time": "2022-01-10T17:23:47.442372",
     "exception": false,
     "start_time": "2022-01-10T17:23:46.971929",
     "status": "completed"
    },
    "tags": []
   },
   "outputs": [],
   "source": [
    "import pandas as pd"
   ]
  },
  {
   "cell_type": "code",
   "execution_count": null,
   "id": "665cb7d2-7a89-4c6c-9956-81b9c1260e14",
   "metadata": {
    "papermill": {
     "duration": 0.608799,
     "end_time": "2022-01-10T17:23:48.068080",
     "exception": false,
     "start_time": "2022-01-10T17:23:47.459281",
     "status": "completed"
    },
    "tags": []
   },
   "outputs": [],
   "source": [
    "storage_options = {'User-Agent': 'Mozilla/5.0'}\n",
    "df = pd.read_excel('https://www.rki.de/DE/Content/InfAZ/N/Neuartiges_Coronavirus/Projekte_RKI/COVID-19_Todesfaelle.xlsx?__blob=publicationFile', storage_options=storage_options, sheet_name=2)"
   ]
  },
  {
   "cell_type": "code",
   "execution_count": null,
   "id": "8e78ac6e-85df-4b25-8f9d-189bfa6c95cf",
   "metadata": {
    "papermill": {
     "duration": 0.030524,
     "end_time": "2022-01-10T17:23:48.113731",
     "exception": false,
     "start_time": "2022-01-10T17:23:48.083207",
     "status": "completed"
    },
    "tags": []
   },
   "outputs": [],
   "source": [
    "df.to_csv('../../data/data.csv', index=False)"
   ]
  }
 ],
 "metadata": {
  "kernelspec": {
   "display_name": "Python 3 (ipykernel)",
   "language": "python",
   "name": "python3"
  },
  "language_info": {
   "codemirror_mode": {
    "name": "ipython",
    "version": 3
   },
   "file_extension": ".py",
   "mimetype": "text/x-python",
   "name": "python",
   "nbconvert_exporter": "python",
   "pygments_lexer": "ipython3",
   "version": "3.9.6"
  },
  "papermill": {
   "default_parameters": {},
   "duration": 10.086186,
   "end_time": "2022-01-10T17:23:48.436357",
   "environment_variables": {},
   "exception": null,
   "input_path": "/home/romeokienzler/gitco/claimed/component-library/input/input-rki-covid19-deaths.ipynb",
   "output_path": "/home/romeokienzler/gitco/claimed/component-library/input/input-rki-covid19-deaths.ipynb",
   "parameters": {},
   "start_time": "2022-01-10T17:23:38.350171",
   "version": "2.3.3"
  }
 },
 "nbformat": 4,
 "nbformat_minor": 5
}
