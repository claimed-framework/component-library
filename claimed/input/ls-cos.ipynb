{
 "cells": [
  {
   "cell_type": "markdown",
   "id": "53af08cf-0149-4369-93d6-fba2203ec6cc",
   "metadata": {},
   "source": [
    "# List content of a bucket in Cloud Object Storage COS"
   ]
  },
  {
   "cell_type": "markdown",
   "id": "7790dbc7-325c-49ff-a709-b4c3c8a659b7",
   "metadata": {},
   "source": [
    "List content of a bucket in Cloud Object Storage COS"
   ]
  },
  {
   "cell_type": "code",
   "execution_count": null,
   "id": "05a6d935-38c5-49df-9df2-fbc8c31c4634",
   "metadata": {
    "scrolled": true,
    "tags": []
   },
   "outputs": [],
   "source": [
    "!pip install aiobotocore botocore s3fs"
   ]
  },
  {
   "cell_type": "code",
   "execution_count": 3,
   "id": "85859764-8fd2-4394-88d6-b3c54194b868",
   "metadata": {},
   "outputs": [],
   "source": [
    "import logging\n",
    "import os\n",
    "import sys\n",
    "import re\n",
    "import s3fs"
   ]
  },
  {
   "cell_type": "code",
   "execution_count": 5,
   "id": "a8069e66-fad7-4be9-bc6f-b9eaa119b3bc",
   "metadata": {},
   "outputs": [],
   "source": [
    "access_key_id = os.environ.get('access_key_id')\n",
    "secret_access_key = os.environ.get('secret_access_key')\n",
    "endpoint = os.environ.get('endpoint')\n",
    "path = os.environ.get('path')\n",
    "destination_file = os.environ.get('destination_file','file_list.txt')\n",
    "data_dir = os.environ.get('data_dir')"
   ]
  },
  {
   "cell_type": "code",
   "execution_count": 6,
   "id": "ad8bf902-7582-445b-aea1-a9ce869532ee",
   "metadata": {},
   "outputs": [],
   "source": [
    "logger = logging.getLogger()\n",
    "logger.setLevel(logging.DEBUG)\n",
    "sh = logging.StreamHandler(sys.stdout)\n",
    "logger.addHandler(sh)\n",
    "\n",
    "\n",
    "parameters = list(\n",
    "    map(lambda s: re.sub('$', '\"', s),\n",
    "        map(\n",
    "            lambda s: s.replace('=', '=\"'),\n",
    "            filter(\n",
    "                lambda s: s.find('=') > -1 and bool(re.match(r'[A-Za-z0-9_]*=[.\\/A-Za-z0-9]*', s)),\n",
    "                sys.argv\n",
    "            )\n",
    "    )))\n",
    "\n",
    "for parameter in parameters:\n",
    "    logging.info('Parameter: ' + parameter)\n",
    "    exec(parameter)"
   ]
  },
  {
   "cell_type": "code",
   "execution_count": 8,
   "id": "704117f6-702d-43ee-9092-201c46b31e15",
   "metadata": {},
   "outputs": [],
   "source": [
    "s3 = s3fs.S3FileSystem(\n",
    "    anon=False,\n",
    "    key=access_key_id,\n",
    "    secret=secret_access_key,\n",
    "    client_kwargs={'endpoint_url': endpoint}\n",
    ")\n",
    "logger.info('S3 connection established')"
   ]
  },
  {
   "cell_type": "code",
   "execution_count": 14,
   "id": "2bd96848-eea7-4fc6-b921-d8129a1a1f58",
   "metadata": {},
   "outputs": [],
   "source": [
    "with open(data_dir + destination_file, 'w') as file:\n",
    "    file.write('\\n'.join(s3.glob(path)))\n",
    "logger.info('List obtained')"
   ]
  }
 ],
 "metadata": {
  "kernelspec": {
   "display_name": "Python 3 (ipykernel)",
   "language": "python",
   "name": "python3"
  },
  "language_info": {
   "codemirror_mode": {
    "name": "ipython",
    "version": 3
   },
   "file_extension": ".py",
   "mimetype": "text/x-python",
   "name": "python",
   "nbconvert_exporter": "python",
   "pygments_lexer": "ipython3",
   "version": "3.9.6"
  }
 },
 "nbformat": 4,
 "nbformat_minor": 5
}
