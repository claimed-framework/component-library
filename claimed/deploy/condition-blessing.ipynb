{
 "cells": [
  {
   "cell_type": "markdown",
   "id": "73c0482f-cf5c-4cb7-ab1e-4e6416a7b57a",
   "metadata": {},
   "source": [
    "# model-blessing"
   ]
  },
  {
   "cell_type": "markdown",
   "id": "brutal-catch",
   "metadata": {},
   "source": [
    "Assesses metrics of an asset (ML model, dashboard, report, ...) and decides on readyness for production deployment. \n",
    "\n",
    "Currently, this is only a placeholder notebook which need to be extended. In the near future we are planning to come up with a baseline implementation which works for the average cases\n"
   ]
  },
  {
   "cell_type": "code",
   "execution_count": null,
   "id": "1d802d6e-20cb-4792-9b50-e355a27700f1",
   "metadata": {},
   "outputs": [],
   "source": [
    "!pip3 install wget==3.2"
   ]
  },
  {
   "cell_type": "code",
   "execution_count": null,
   "id": "2d7f1bc5-b134-4d1e-80d8-9bb3709c0a23",
   "metadata": {},
   "outputs": [],
   "source": [
    "import os\n",
    "import wget"
   ]
  },
  {
   "cell_type": "code",
   "execution_count": null,
   "id": "9a7b0b8e-7236-4e47-8b3e-3d44bfdf17a7",
   "metadata": {},
   "outputs": [],
   "source": [
    "# expression in python to be evaluated\n",
    "expression = os.environ.get('expression')\n",
    "\n",
    "# output_result_filename (default: result.txt)\n",
    "output_result_filename = os.environ.get('output_result_filename', 'result.txt')"
   ]
  },
  {
   "cell_type": "code",
   "execution_count": null,
   "id": "gentle-memorabilia",
   "metadata": {},
   "outputs": [],
   "source": [
    "# @returns result file containing TRUE/FALSE in the 1st line\n",
    "# and additional information\n",
    "# on the decision made in plain text in the subsequent lines"
   ]
  },
  {
   "cell_type": "code",
   "execution_count": null,
   "id": "undefined-leave",
   "metadata": {},
   "outputs": [],
   "source": [
    "# Your implmementation here\n",
    "print('not yet implemented')"
   ]
  }
 ],
 "metadata": {
  "kernelspec": {
   "display_name": "Python 3 (ipykernel)",
   "language": "python",
   "name": "python3"
  },
  "language_info": {
   "codemirror_mode": {
    "name": "ipython",
    "version": 3
   },
   "file_extension": ".py",
   "mimetype": "text/x-python",
   "name": "python",
   "nbconvert_exporter": "python",
   "pygments_lexer": "ipython3",
   "version": "3.10.6"
  }
 },
 "nbformat": 4,
 "nbformat_minor": 5
}
