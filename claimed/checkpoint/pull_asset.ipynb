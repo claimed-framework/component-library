{
 "cells": [
  {
   "cell_type": "markdown",
   "id": "7e06922b-a531-4ac7-b254-6ae825c8da67",
   "metadata": {},
   "source": [
    "# pull_asset"
   ]
  },
  {
   "cell_type": "markdown",
   "id": "19ddc5ea-34b5-4b31-a254-2ba3c44dc62c",
   "metadata": {},
   "source": [
    "Pulls an asset (file) from S3 compliant COS (Cloud Object Store) to provide it to subsequent stages to avoid re-processing of data.\n",
    "\n",
    "WARNING: currently only minio supported"
   ]
  },
  {
   "cell_type": "code",
   "execution_count": null,
   "id": "5651e212-f812-46ec-b674-77680756856d",
   "metadata": {},
   "outputs": [],
   "source": [
    "!pip install wget==3.2"
   ]
  },
  {
   "cell_type": "code",
   "execution_count": null,
   "id": "stainless-purpose",
   "metadata": {},
   "outputs": [],
   "source": [
    "import wget\n",
    "wget.download(\n",
    "    'https://raw.githubusercontent.com/IBM/claimed/master/component-library/claimed_utils.py'\n",
    ")\n",
    "from claimed_utils import parse_args_to_parameters\n",
    "from minio import Minio\n",
    "import os\n",
    "import os.path"
   ]
  },
  {
   "cell_type": "code",
   "execution_count": null,
   "id": "tired-access",
   "metadata": {},
   "outputs": [],
   "source": [
    "# checkpoint_ip minio endpoint\n",
    "checkpoint_ip = os.environ.get('checkpoint_ip')\n",
    "\n",
    "# checkpoint_user minio user\n",
    "checkpoint_user = os.environ.get('checkpoint_user', 'minio')\n",
    "\n",
    "# checkpoint_pass minio pw\n",
    "checkpoint_pass = os.environ.get('checkpoint_pass', 'minio123')\n",
    "\n",
    "# checkpoint_bucket minio bucket\n",
    "checkpoint_bucket = os.environ.get('checkpoint_bucket', 'checkpoint')\n",
    "\n",
    "# name of asset to pull\n",
    "asset_name = os.environ.get('asset_name')\n",
    "\n",
    "parse_args_to_parameters()"
   ]
  },
  {
   "cell_type": "code",
   "execution_count": null,
   "id": "bound-tuning",
   "metadata": {
    "tags": []
   },
   "outputs": [],
   "source": [
    "client = Minio(checkpoint_ip, checkpoint_user, checkpoint_pass, secure=False)\n",
    "\n",
    "objects = client.list_objects(checkpoint_bucket)\n",
    "for obj in objects:\n",
    "    if asset_name == obj.object_name:\n",
    "        client.fget_object(checkpoint_bucket, asset_name, asset_name)\n",
    "        break"
   ]
  }
 ],
 "metadata": {
  "kernelspec": {
   "display_name": "Python 3 (ipykernel)",
   "language": "python",
   "name": "python3"
  },
  "language_info": {
   "codemirror_mode": {
    "name": "ipython",
    "version": 3
   },
   "file_extension": ".py",
   "mimetype": "text/x-python",
   "name": "python",
   "nbconvert_exporter": "python",
   "pygments_lexer": "ipython3",
   "version": "3.8.10"
  }
 },
 "nbformat": 4,
 "nbformat_minor": 5
}
